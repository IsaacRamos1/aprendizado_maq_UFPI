{
 "cells": [
  {
   "cell_type": "code",
   "execution_count": 1,
   "id": "488dce4f-e100-47b4-9696-dda2541ee5b9",
   "metadata": {},
   "outputs": [],
   "source": [
    "import numpy as np\n",
    "from sklearn.cluster import KMeans\n",
    "import pandas as pd"
   ]
  },
  {
   "cell_type": "code",
   "execution_count": 2,
   "id": "e553736e-d08d-494e-8c42-85d13df41603",
   "metadata": {},
   "outputs": [],
   "source": [
    "def calculate_variance(data):\n",
    "    # Calcula a variância média das distâncias euclidianas entre os pontos de dados\n",
    "    pairwise_distances = np.linalg.norm(data[:, None, :] - data[None, :, :], axis=-1)\n",
    "    return np.mean(pairwise_distances)"
   ]
  },
  {
   "cell_type": "code",
   "execution_count": 3,
   "id": "1821e5d3-9ba1-4869-bc2d-07dda4b6f0c7",
   "metadata": {},
   "outputs": [],
   "source": [
    "def gaussian_rbf(x, center, variance):\n",
    "    # Função de ativação gaussiana (RBF)\n",
    "    return np.exp(-np.sum((x - center)**2) / (2 * variance**2))"
   ]
  },
  {
   "cell_type": "code",
   "execution_count": 4,
   "id": "359666d5-73b7-4db9-b51d-4332c7547885",
   "metadata": {},
   "outputs": [],
   "source": [
    "def train_rbf_network(input_data, output_labels, hidden_neurons=3, learning_rate=0.01, epochs=100):\n",
    "    input_dim = input_data.shape[1]\n",
    "    output_dim = output_labels.shape[1]\n",
    "\n",
    "    kmeans = KMeans(n_clusters=hidden_neurons, random_state=42)\n",
    "    kmeans.fit(input_data)\n",
    "    rbf_centers = kmeans.cluster_centers_\n",
    "    rbf_variance = calculate_variance(input_data)\n",
    "\n",
    "    # Inicialização dos pesos da camada de saída com pequenos valores\n",
    "    weights = np.random.rand(hidden_neurons, output_dim) * 0.01\n",
    "\n",
    "    for epoch in range(epochs):\n",
    "        hidden_layer = np.array([gaussian_rbf(x, rbf_centers, rbf_variance) for x in input_data])\n",
    "        hidden_layer = hidden_layer.reshape((input_data.shape[0], -1)) # redimensionar\n",
    "        output_layer = np.dot(weights, hidden_layer.T).T\n",
    "\n",
    "        error = output_labels - output_layer\n",
    "\n",
    "        # Atualização dos pesos usando a regra delta\n",
    "        weights += learning_rate * np.dot(hidden_layer.T, error).T\n",
    "\n",
    "        if epoch % 10 == 0:\n",
    "            print(f'Epoch {epoch}, Error: {np.mean(error**2)}')\n",
    "\n",
    "    return rbf_centers, rbf_variance, weights"
   ]
  },
  {
   "cell_type": "code",
   "execution_count": 6,
   "id": "40ea5084-25b2-4852-8d85-949fc045b09e",
   "metadata": {},
   "outputs": [
    {
     "data": {
      "text/html": [
       "<div>\n",
       "<style scoped>\n",
       "    .dataframe tbody tr th:only-of-type {\n",
       "        vertical-align: middle;\n",
       "    }\n",
       "\n",
       "    .dataframe tbody tr th {\n",
       "        vertical-align: top;\n",
       "    }\n",
       "\n",
       "    .dataframe thead th {\n",
       "        text-align: right;\n",
       "    }\n",
       "</style>\n",
       "<table border=\"1\" class=\"dataframe\">\n",
       "  <thead>\n",
       "    <tr style=\"text-align: right;\">\n",
       "      <th></th>\n",
       "      <th>x1</th>\n",
       "      <th>x2</th>\n",
       "      <th>x3</th>\n",
       "      <th>d</th>\n",
       "    </tr>\n",
       "  </thead>\n",
       "  <tbody>\n",
       "    <tr>\n",
       "      <th>0</th>\n",
       "      <td>0.5102</td>\n",
       "      <td>0.7464</td>\n",
       "      <td>0.0860</td>\n",
       "      <td>0.5965</td>\n",
       "    </tr>\n",
       "    <tr>\n",
       "      <th>1</th>\n",
       "      <td>0.8401</td>\n",
       "      <td>0.4490</td>\n",
       "      <td>0.2719</td>\n",
       "      <td>0.6790</td>\n",
       "    </tr>\n",
       "    <tr>\n",
       "      <th>2</th>\n",
       "      <td>0.1283</td>\n",
       "      <td>0.1882</td>\n",
       "      <td>0.7253</td>\n",
       "      <td>0.4662</td>\n",
       "    </tr>\n",
       "    <tr>\n",
       "      <th>3</th>\n",
       "      <td>0.2299</td>\n",
       "      <td>0.1524</td>\n",
       "      <td>0.7353</td>\n",
       "      <td>0.5012</td>\n",
       "    </tr>\n",
       "    <tr>\n",
       "      <th>4</th>\n",
       "      <td>0.3209</td>\n",
       "      <td>0.6229</td>\n",
       "      <td>0.5233</td>\n",
       "      <td>0.6810</td>\n",
       "    </tr>\n",
       "  </tbody>\n",
       "</table>\n",
       "</div>"
      ],
      "text/plain": [
       "       x1      x2      x3       d\n",
       "0  0.5102  0.7464  0.0860  0.5965\n",
       "1  0.8401  0.4490  0.2719  0.6790\n",
       "2  0.1283  0.1882  0.7253  0.4662\n",
       "3  0.2299  0.1524  0.7353  0.5012\n",
       "4  0.3209  0.6229  0.5233  0.6810"
      ]
     },
     "execution_count": 6,
     "metadata": {},
     "output_type": "execute_result"
    }
   ],
   "source": [
    "df = pd.read_excel('data_aprox_funcoes.xls')\n",
    "df.head()"
   ]
  },
  {
   "cell_type": "code",
   "execution_count": 41,
   "id": "2933cdd6-7f40-466c-afcf-263d2c2eb833",
   "metadata": {},
   "outputs": [
    {
     "name": "stdout",
     "output_type": "stream",
     "text": [
      "Epoch 0, Error: 0.3151166934050919\n",
      "Epoch 10, Error: 0.13328927893259307\n",
      "Epoch 20, Error: 0.13328927893259307\n",
      "Epoch 30, Error: 0.13328927893259307\n",
      "Epoch 40, Error: 0.13328927893259307\n",
      "Epoch 50, Error: 0.13328927893259307\n",
      "Epoch 60, Error: 0.13328927893259307\n",
      "Epoch 70, Error: 0.13328927893259307\n",
      "Epoch 80, Error: 0.13328927893259307\n",
      "Epoch 90, Error: 0.13328927893259307\n",
      "\n",
      "Centros finais:\n",
      "[[0.46987843 0.80095968]\n",
      " [0.75609668 0.29479746]\n",
      " [0.23372845 0.31280884]]\n",
      "\n",
      "Variância final:\n",
      "0.5184688622035224\n",
      "\n",
      "Pesos Finais\n",
      "[[1.43233942]\n",
      " [1.43233942]\n",
      " [1.43233942]]\n"
     ]
    }
   ],
   "source": [
    "input_data = df.drop('d', axis=1).to_numpy()\n",
    "output_labels = df['d'].to_numpy().reshape(-1, 1)\n",
    "\n",
    "# Treinamento da rede RBF\n",
    "final_centers, final_variance, weights = train_rbf_network(input_data, output_labels)\n",
    "\n",
    "print(\"\\nCentros finais:\")\n",
    "print(final_centers)\n",
    "print(\"\\nVariância final:\")\n",
    "print(final_variance)\n",
    "print('\\nPesos Finais')\n",
    "print(weights)"
   ]
  },
  {
   "cell_type": "code",
   "execution_count": null,
   "id": "e031f852-1ce9-4b33-b913-c74e97f2afcc",
   "metadata": {},
   "outputs": [],
   "source": []
  },
  {
   "cell_type": "code",
   "execution_count": null,
   "id": "f1ef1de7-86f3-4c8d-8c4f-7a0ff3347f2e",
   "metadata": {},
   "outputs": [],
   "source": []
  }
 ],
 "metadata": {
  "kernelspec": {
   "display_name": "Python 3 (ipykernel)",
   "language": "python",
   "name": "python3"
  },
  "language_info": {
   "codemirror_mode": {
    "name": "ipython",
    "version": 3
   },
   "file_extension": ".py",
   "mimetype": "text/x-python",
   "name": "python",
   "nbconvert_exporter": "python",
   "pygments_lexer": "ipython3",
   "version": "3.12.3"
  }
 },
 "nbformat": 4,
 "nbformat_minor": 5
}
