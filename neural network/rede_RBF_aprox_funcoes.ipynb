{
 "cells": [
  {
   "cell_type": "code",
   "execution_count": 29,
   "id": "49fa43e8-053f-4413-aa37-9f76e3323f9c",
   "metadata": {},
   "outputs": [],
   "source": [
    "import numpy as np\n",
    "import pandas as pd\n",
    "\n",
    "def gaussian_rbf(x, center, width):\n",
    "    return np.exp(-np.linalg.norm(x - center) ** 2 / (2 * width ** 2))\n"
   ]
  },
  {
   "cell_type": "code",
   "execution_count": 33,
   "id": "03d72766-bb58-4f2b-b0e4-608794bc0ff5",
   "metadata": {},
   "outputs": [],
   "source": [
    "def treino_RBF(data, num_centers, learning_rate, stop_criterion):\n",
    "    inputs = data.iloc[:, :-1].values\n",
    "    outputs = data.iloc[:, -1].values\n",
    "\n",
    "    num_samples, num_features = inputs.shape\n",
    "    centers = inputs[np.random.choice(num_samples, num_centers, replace=False)]\n",
    "    \n",
    "    output_weights = np.random.rand(num_centers)\n",
    "    variances = np.ones(num_centers)\n",
    "    prev_error = float('inf')\n",
    "    epochs = 0\n",
    "\n",
    "    while True:\n",
    "        activations = np.zeros((num_samples, num_centers))\n",
    "        for i in range(num_samples):\n",
    "            for j in range(num_centers):\n",
    "                activations[i, j] = gaussian_rbf(inputs[i], centers[j], width=1.0)\n",
    "\n",
    "        output = np.dot(activations, output_weights)\n",
    "        error = np.mean((output - outputs) ** 2)\n",
    "\n",
    "        if np.abs(prev_error - error) <= stop_criterion:\n",
    "            break\n",
    "        \n",
    "        for j in range(num_centers):\n",
    "            center_gradient = 0\n",
    "            variance_gradient = 0\n",
    "            weight_gradient = 0\n",
    "            for i in range(num_samples):\n",
    "                center_gradient += (output[i] - outputs[i]) * output_weights[j] * \\\n",
    "                                   gaussian_rbf(inputs[i], centers[j], width=variances[j]) * \\\n",
    "                                   (inputs[i] - centers[j]) / (variances[j] ** 2)\n",
    "                variance_gradient += (output[i] - outputs[i]) * output_weights[j] * \\\n",
    "                                     gaussian_rbf(inputs[i], centers[j], width=variances[j]) * \\\n",
    "                                     np.linalg.norm(inputs[i] - centers[j]) ** 2 / (variances[j] ** 3)\n",
    "                weight_gradient += (output[i] - outputs[i]) * activations[i, j]\n",
    "\n",
    "            centers[j] -= learning_rate * center_gradient\n",
    "            variances[j] -= learning_rate * variance_gradient\n",
    "            output_weights[j] -= learning_rate * weight_gradient\n",
    "\n",
    "        prev_error = error\n",
    "        epochs += 1\n",
    "\n",
    "    final_activations = np.zeros((num_samples, num_centers))\n",
    "    for i in range(num_samples):\n",
    "        for j in range(num_centers):\n",
    "            final_activations[i, j] = gaussian_rbf(inputs[i], centers[j], width=1.0)\n",
    "            \n",
    "    final_output = np.dot(final_activations, output_weights)\n",
    "    final_error = np.sqrt(np.mean((final_output - outputs) ** 2))\n",
    "    \n",
    "    for j in range(num_centers):\n",
    "        print(f\"\\nCluster {j + 1}:\")\n",
    "        print(f\"  Center coordinates: {centers[j]}\")\n",
    "        print(f\"  Variance: {variances[j]}\")\n",
    "    \n",
    "    print(f\"\\nPesos ajustados (camada escondida): {centers}\")\n",
    "    print(f\"Pesos ajustados (camada de saida): {output_weights}\")\n",
    "    print(f\"\\nNumero de epocas: {epochs}\")\n",
    "    print(f\"\\nErro Quadrático Médio: {final_error}\")\n",
    "\n",
    "    return centers, variances, output_weights\n",
    "\n",
    "def teste_RBF(inputs, centers, variances, output_weights):\n",
    "    num_samples, num_centers = inputs.shape\n",
    "\n",
    "    activations = np.zeros((num_samples, num_centers))\n",
    "    for i in range(num_samples):\n",
    "        for j in range(num_centers):\n",
    "            activations[i, j] = gaussian_rbf(inputs[i], centers[j], width=variances[j])\n",
    "\n",
    "    output = np.dot(activations, output_weights)\n",
    "    return output"
   ]
  },
  {
   "cell_type": "code",
   "execution_count": 34,
   "id": "79a4c5e2-873c-4c7c-8c03-e8f0cd762196",
   "metadata": {},
   "outputs": [
    {
     "data": {
      "text/plain": [
       "(150, 4)"
      ]
     },
     "execution_count": 34,
     "metadata": {},
     "output_type": "execute_result"
    }
   ],
   "source": [
    "data = pd.read_excel('TabelaTreinoFuncoes_RNA_sigaa.xls')\n",
    "data.head()\n",
    "data.shape\n",
    "\n",
    "#parametros\n",
    "\n",
    "# RBF-1 = 5 neuronios \n",
    "# RBF-2 = 10 neuronios\n",
    "# RBF-3 = 25 neuronios"
   ]
  },
  {
   "cell_type": "markdown",
   "id": "93afae2b-4777-423d-b2a2-5a15d5a2d6c7",
   "metadata": {},
   "source": [
    "### RBF-1 com 5 neurônios"
   ]
  },
  {
   "cell_type": "code",
   "execution_count": 35,
   "id": "5acf057e-bc41-481f-8fde-69e475be83bd",
   "metadata": {
    "scrolled": true
   },
   "outputs": [
    {
     "name": "stdout",
     "output_type": "stream",
     "text": [
      "\n",
      "Cluster 1:\n",
      "  Center coordinates: [-1.14927066  3.46660889  1.92682836]\n",
      "  Variance: 0.6161910268987719\n",
      "\n",
      "Cluster 2:\n",
      "  Center coordinates: [-0.75605989  0.97363619 -0.40818705]\n",
      "  Variance: -0.20333927624443318\n",
      "\n",
      "Cluster 3:\n",
      "  Center coordinates: [-0.65530465  0.75285587 -2.86935293]\n",
      "  Variance: 0.13746823921568474\n",
      "\n",
      "Cluster 4:\n",
      "  Center coordinates: [1.01161476 1.05956172 1.0205723 ]\n",
      "  Variance: 2.1676500469469406\n",
      "\n",
      "Cluster 5:\n",
      "  Center coordinates: [-0.5222792   2.75863929 -0.71267473]\n",
      "  Variance: 0.5505734016047878\n",
      "\n",
      "Pesos ajustados (camada escondida): [[-1.14927066  3.46660889  1.92682836]\n",
      " [-0.75605989  0.97363619 -0.40818705]\n",
      " [-0.65530465  0.75285587 -2.86935293]\n",
      " [ 1.01161476  1.05956172  1.0205723 ]\n",
      " [-0.5222792   2.75863929 -0.71267473]]\n",
      "Pesos ajustados (camada de saida): [-1.6610097  -0.04354975 -2.39633069  1.08645559  0.23275598]\n",
      "\n",
      "Numero de epocas: 5196\n",
      "\n",
      "Erro Quadrático Médio: 0.027594893624760083\n"
     ]
    }
   ],
   "source": [
    "num_centers = 5\n",
    "learning_rate = 0.01\n",
    "stop_criterion = 1e-7\n",
    "\n",
    "# Treino\n",
    "trained_centers, trained_variances, trained_output_weights = treino_RBF(data, num_centers, learning_rate, stop_criterion)"
   ]
  },
  {
   "cell_type": "code",
   "execution_count": 36,
   "id": "55a05640-a6d7-4531-ad30-b0546690f6af",
   "metadata": {},
   "outputs": [],
   "source": [
    "# Validação\n",
    "test_data = pd.read_excel('Tabela#6.6_RNA_usp.xls')\n",
    "\n",
    "# Extrair entradas e saídas do conjunto de teste\n",
    "test_inputs = test_data.iloc[:, :-1].values\n",
    "test_outputs = test_data.iloc[:, -1].values"
   ]
  },
  {
   "cell_type": "code",
   "execution_count": 37,
   "id": "afecbffd-506b-40c5-badc-2b3de555b1bb",
   "metadata": {},
   "outputs": [
    {
     "data": {
      "text/plain": [
       "(15, 4)"
      ]
     },
     "execution_count": 37,
     "metadata": {},
     "output_type": "execute_result"
    }
   ],
   "source": [
    "test_data.head()\n",
    "test_data.shape"
   ]
  },
  {
   "cell_type": "code",
   "execution_count": 38,
   "id": "b9afe98f-b3dd-46ba-aef9-7daf4526f66f",
   "metadata": {},
   "outputs": [
    {
     "ename": "ValueError",
     "evalue": "shapes (15,3) and (5,) not aligned: 3 (dim 1) != 5 (dim 0)",
     "output_type": "error",
     "traceback": [
      "\u001b[1;31m---------------------------------------------------------------------------\u001b[0m",
      "\u001b[1;31mValueError\u001b[0m                                Traceback (most recent call last)",
      "\u001b[1;32m~\\AppData\\Local\\Temp\\ipykernel_1732\\3622254459.py\u001b[0m in \u001b[0;36m<module>\u001b[1;34m\u001b[0m\n\u001b[0;32m      1\u001b[0m \u001b[1;31m# Testar a rede treinada no conjunto de teste\u001b[0m\u001b[1;33m\u001b[0m\u001b[1;33m\u001b[0m\u001b[0m\n\u001b[1;32m----> 2\u001b[1;33m \u001b[0mpredictions\u001b[0m \u001b[1;33m=\u001b[0m \u001b[0mteste_RBF\u001b[0m\u001b[1;33m(\u001b[0m\u001b[0mtest_inputs\u001b[0m\u001b[1;33m,\u001b[0m \u001b[0mtrained_centers\u001b[0m\u001b[1;33m,\u001b[0m \u001b[0mtrained_variances\u001b[0m\u001b[1;33m,\u001b[0m \u001b[0mtrained_output_weights\u001b[0m\u001b[1;33m)\u001b[0m\u001b[1;33m\u001b[0m\u001b[1;33m\u001b[0m\u001b[0m\n\u001b[0m\u001b[0;32m      3\u001b[0m \u001b[1;33m\u001b[0m\u001b[0m\n\u001b[0;32m      4\u001b[0m \u001b[1;31m# Calcular Erro Relativo Médio (ERM) em porcentagem\u001b[0m\u001b[1;33m\u001b[0m\u001b[1;33m\u001b[0m\u001b[0m\n\u001b[0;32m      5\u001b[0m \u001b[0merm_percentage\u001b[0m \u001b[1;33m=\u001b[0m \u001b[0mnp\u001b[0m\u001b[1;33m.\u001b[0m\u001b[0mmean\u001b[0m\u001b[1;33m(\u001b[0m\u001b[0mnp\u001b[0m\u001b[1;33m.\u001b[0m\u001b[0mabs\u001b[0m\u001b[1;33m(\u001b[0m\u001b[0mpredictions\u001b[0m \u001b[1;33m-\u001b[0m \u001b[0mtest_outputs\u001b[0m\u001b[1;33m)\u001b[0m \u001b[1;33m/\u001b[0m \u001b[0mnp\u001b[0m\u001b[1;33m.\u001b[0m\u001b[0mabs\u001b[0m\u001b[1;33m(\u001b[0m\u001b[0mtest_outputs\u001b[0m\u001b[1;33m)\u001b[0m\u001b[1;33m)\u001b[0m \u001b[1;33m*\u001b[0m \u001b[1;36m100\u001b[0m\u001b[1;33m\u001b[0m\u001b[1;33m\u001b[0m\u001b[0m\n",
      "\u001b[1;32m~\\AppData\\Local\\Temp\\ipykernel_1732\\4221835535.py\u001b[0m in \u001b[0;36mteste_RBF\u001b[1;34m(inputs, centers, variances, output_weights)\u001b[0m\n\u001b[0;32m     71\u001b[0m             \u001b[0mactivations\u001b[0m\u001b[1;33m[\u001b[0m\u001b[0mi\u001b[0m\u001b[1;33m,\u001b[0m \u001b[0mj\u001b[0m\u001b[1;33m]\u001b[0m \u001b[1;33m=\u001b[0m \u001b[0mgaussian_rbf\u001b[0m\u001b[1;33m(\u001b[0m\u001b[0minputs\u001b[0m\u001b[1;33m[\u001b[0m\u001b[0mi\u001b[0m\u001b[1;33m]\u001b[0m\u001b[1;33m,\u001b[0m \u001b[0mcenters\u001b[0m\u001b[1;33m[\u001b[0m\u001b[0mj\u001b[0m\u001b[1;33m]\u001b[0m\u001b[1;33m,\u001b[0m \u001b[0mwidth\u001b[0m\u001b[1;33m=\u001b[0m\u001b[0mvariances\u001b[0m\u001b[1;33m[\u001b[0m\u001b[0mj\u001b[0m\u001b[1;33m]\u001b[0m\u001b[1;33m)\u001b[0m\u001b[1;33m\u001b[0m\u001b[1;33m\u001b[0m\u001b[0m\n\u001b[0;32m     72\u001b[0m \u001b[1;33m\u001b[0m\u001b[0m\n\u001b[1;32m---> 73\u001b[1;33m     \u001b[0moutput\u001b[0m \u001b[1;33m=\u001b[0m \u001b[0mnp\u001b[0m\u001b[1;33m.\u001b[0m\u001b[0mdot\u001b[0m\u001b[1;33m(\u001b[0m\u001b[0mactivations\u001b[0m\u001b[1;33m,\u001b[0m \u001b[0moutput_weights\u001b[0m\u001b[1;33m)\u001b[0m\u001b[1;33m\u001b[0m\u001b[1;33m\u001b[0m\u001b[0m\n\u001b[0m\u001b[0;32m     74\u001b[0m     \u001b[1;32mreturn\u001b[0m \u001b[0moutput\u001b[0m\u001b[1;33m\u001b[0m\u001b[1;33m\u001b[0m\u001b[0m\n",
      "\u001b[1;32m<__array_function__ internals>\u001b[0m in \u001b[0;36mdot\u001b[1;34m(*args, **kwargs)\u001b[0m\n",
      "\u001b[1;31mValueError\u001b[0m: shapes (15,3) and (5,) not aligned: 3 (dim 1) != 5 (dim 0)"
     ]
    }
   ],
   "source": [
    "# Testar a rede treinada no conjunto de teste\n",
    "predictions = teste_RBF(test_inputs, trained_centers, trained_variances, trained_output_weights)\n",
    "\n",
    "# Calcular Erro Relativo Médio (ERM) em porcentagem\n",
    "erm_percentage = np.mean(np.abs(predictions - test_outputs) / np.abs(test_outputs)) * 100\n",
    "\n",
    "# Calcular a variância em porcentagem\n",
    "variance_percentage = np.var(predictions - test_outputs) / np.var(test_outputs) * 100\n",
    "\n",
    "print(f\"\\nErro Relativo Médio (ERM): {erm_percentage}%\")\n",
    "print(f\"Variância: {variance_percentage}%\")"
   ]
  },
  {
   "cell_type": "markdown",
   "id": "b76b71cc-cd72-4e1c-919e-c14760cb09f3",
   "metadata": {
    "jp-MarkdownHeadingCollapsed": true
   },
   "source": [
    "### RBF-2 com 10 neurônios"
   ]
  },
  {
   "cell_type": "code",
   "execution_count": 39,
   "id": "7e1f910e-854d-4955-94a0-746a6ade38f8",
   "metadata": {},
   "outputs": [
    {
     "name": "stdout",
     "output_type": "stream",
     "text": [
      "\n",
      "Cluster 1:\n",
      "  Center coordinates: [0.3605635  1.11021056 0.22775525]\n",
      "  Variance: 0.890247700054785\n",
      "\n",
      "Cluster 2:\n",
      "  Center coordinates: [0.05059576 0.10801836 0.52952597]\n",
      "  Variance: 1.018155878908135\n",
      "\n",
      "Cluster 3:\n",
      "  Center coordinates: [0.56755131 0.72336545 0.79998424]\n",
      "  Variance: 0.40370196993767027\n",
      "\n",
      "Cluster 4:\n",
      "  Center coordinates: [0.16919656 0.0689022  0.83492975]\n",
      "  Variance: 0.7938342473052544\n",
      "\n",
      "Cluster 5:\n",
      "  Center coordinates: [0.97888662 0.505264   0.34139987]\n",
      "  Variance: 0.8642970272738222\n",
      "\n",
      "Cluster 6:\n",
      "  Center coordinates: [0.56925096 0.8724456  0.04420544]\n",
      "  Variance: 0.9092115595523463\n",
      "\n",
      "Cluster 7:\n",
      "  Center coordinates: [0.94005723 0.10380428 0.66547198]\n",
      "  Variance: 0.8747576446784556\n",
      "\n",
      "Cluster 8:\n",
      "  Center coordinates: [0.65366207 0.3964562  1.00029149]\n",
      "  Variance: 0.8322327914822419\n",
      "\n",
      "Cluster 9:\n",
      "  Center coordinates: [0.54814627 0.89187664 0.29494453]\n",
      "  Variance: 0.9528134605410133\n",
      "\n",
      "Cluster 10:\n",
      "  Center coordinates: [0.1679513  0.05913527 0.43151185]\n",
      "  Variance: 1.0526851949962726\n",
      "\n",
      "Pesos ajustados (camada escondida): [[0.3605635  1.11021056 0.22775525]\n",
      " [0.05059576 0.10801836 0.52952597]\n",
      " [0.56755131 0.72336545 0.79998424]\n",
      " [0.16919656 0.0689022  0.83492975]\n",
      " [0.97888662 0.505264   0.34139987]\n",
      " [0.56925096 0.8724456  0.04420544]\n",
      " [0.94005723 0.10380428 0.66547198]\n",
      " [0.65366207 0.3964562  1.00029149]\n",
      " [0.54814627 0.89187664 0.29494453]\n",
      " [0.1679513  0.05913527 0.43151185]]\n",
      "Pesos ajustados (camada de saida): [ 0.22461764 -0.32866747  0.65305401  0.22192094  0.08590788  0.04504194\n",
      "  0.22057619  0.25944668 -0.08439493 -0.49840412]\n",
      "\n",
      "Numero de epocas: 1616\n",
      "\n",
      "Erro Quadrático Médio: 0.009435206429162584\n"
     ]
    }
   ],
   "source": [
    "num_centers = 10\n",
    "learning_rate = 0.01\n",
    "stop_criterion = 1e-7\n",
    "\n",
    "# Treino\n",
    "trained_centers, trained_variances, trained_output_weights = treino_RBF(data, num_centers, learning_rate, stop_criterion)"
   ]
  },
  {
   "cell_type": "markdown",
   "id": "f0212fb1-dab0-4de9-883b-59b7b723251d",
   "metadata": {
    "jp-MarkdownHeadingCollapsed": true
   },
   "source": [
    "### RBF-3 com 15 neurônios"
   ]
  },
  {
   "cell_type": "code",
   "execution_count": 41,
   "id": "7d8fb89f-1aaa-4779-9cdd-c8bc7cb9cc5e",
   "metadata": {},
   "outputs": [
    {
     "name": "stdout",
     "output_type": "stream",
     "text": [
      "\n",
      "Cluster 1:\n",
      "  Center coordinates: [0.52967963 0.73419687 0.60140977]\n",
      "  Variance: 0.9044643826140079\n",
      "\n",
      "Cluster 2:\n",
      "  Center coordinates: [0.11646967 0.05633148 0.83515197]\n",
      "  Variance: 0.8280457110285006\n",
      "\n",
      "Cluster 3:\n",
      "  Center coordinates: [ 0.91250188 -0.09904728  0.54229784]\n",
      "  Variance: 0.8426437139187875\n",
      "\n",
      "Cluster 4:\n",
      "  Center coordinates: [1.05248644 0.69605817 0.54141317]\n",
      "  Variance: 0.8497285346599754\n",
      "\n",
      "Cluster 5:\n",
      "  Center coordinates: [ 0.92532445 -0.07460754  0.44973114]\n",
      "  Variance: 0.8865184407035424\n",
      "\n",
      "Cluster 6:\n",
      "  Center coordinates: [1.06503092 0.18754999 0.55509605]\n",
      "  Variance: 0.911245489526232\n",
      "\n",
      "Cluster 7:\n",
      "  Center coordinates: [ 0.20608236 -0.01513395  0.55160267]\n",
      "  Variance: 0.9426699231672397\n",
      "\n",
      "Cluster 8:\n",
      "  Center coordinates: [0.59727482 1.0579169  0.49738103]\n",
      "  Variance: 0.7266036292220667\n",
      "\n",
      "Cluster 9:\n",
      "  Center coordinates: [0.31237066 0.95152695 0.03308198]\n",
      "  Variance: 0.8905584373221402\n",
      "\n",
      "Cluster 10:\n",
      "  Center coordinates: [ 0.50101539  0.8471517  -0.0633241 ]\n",
      "  Variance: 0.8319062093880573\n",
      "\n",
      "Cluster 11:\n",
      "  Center coordinates: [0.97108372 0.47682426 0.18801043]\n",
      "  Variance: 0.8549978802631643\n",
      "\n",
      "Cluster 12:\n",
      "  Center coordinates: [0.22585118 0.75383649 0.64201516]\n",
      "  Variance: 0.7775242883583744\n",
      "\n",
      "Cluster 13:\n",
      "  Center coordinates: [-0.05286672  0.70807278  0.26295126]\n",
      "  Variance: 0.8314548506625156\n",
      "\n",
      "Cluster 14:\n",
      "  Center coordinates: [0.04947018 0.09969854 0.73194727]\n",
      "  Variance: 0.9247974843805948\n",
      "\n",
      "Cluster 15:\n",
      "  Center coordinates: [0.64089399 0.37156732 1.11133308]\n",
      "  Variance: 0.7106544112924935\n",
      "\n",
      "Pesos ajustados (camada escondida): [[ 0.52967963  0.73419687  0.60140977]\n",
      " [ 0.11646967  0.05633148  0.83515197]\n",
      " [ 0.91250188 -0.09904728  0.54229784]\n",
      " [ 1.05248644  0.69605817  0.54141317]\n",
      " [ 0.92532445 -0.07460754  0.44973114]\n",
      " [ 1.06503092  0.18754999  0.55509605]\n",
      " [ 0.20608236 -0.01513395  0.55160267]\n",
      " [ 0.59727482  1.0579169   0.49738103]\n",
      " [ 0.31237066  0.95152695  0.03308198]\n",
      " [ 0.50101539  0.8471517  -0.0633241 ]\n",
      " [ 0.97108372  0.47682426  0.18801043]\n",
      " [ 0.22585118  0.75383649  0.64201516]\n",
      " [-0.05286672  0.70807278  0.26295126]\n",
      " [ 0.04947018  0.09969854  0.73194727]\n",
      " [ 0.64089399  0.37156732  1.11133308]]\n",
      "Pesos ajustados (camada de saida): [-0.0067852   0.06000425 -0.4395622   0.01135963  0.23282565  0.43525037\n",
      " -0.38808131  0.46682118 -0.26764566 -0.04460877  0.06734888  0.37514908\n",
      "  0.01768215 -0.22374723  0.49943239]\n",
      "\n",
      "Numero de epocas: 716\n",
      "\n",
      "Erro Quadrático Médio: 0.007949247497863271\n"
     ]
    }
   ],
   "source": [
    "num_centers = 15\n",
    "learning_rate = 0.01\n",
    "stop_criterion = 1e-7\n",
    "\n",
    "# Treino\n",
    "trained_centers, trained_variances, trained_output_weights = treino_RBF(data, num_centers, learning_rate, stop_criterion)"
   ]
  },
  {
   "cell_type": "code",
   "execution_count": null,
   "id": "eb47d1ca-3d8e-42ab-be53-682a1ba71e5e",
   "metadata": {},
   "outputs": [],
   "source": []
  }
 ],
 "metadata": {
  "kernelspec": {
   "display_name": "Python 3 (ipykernel)",
   "language": "python",
   "name": "python3"
  },
  "language_info": {
   "codemirror_mode": {
    "name": "ipython",
    "version": 3
   },
   "file_extension": ".py",
   "mimetype": "text/x-python",
   "name": "python",
   "nbconvert_exporter": "python",
   "pygments_lexer": "ipython3",
   "version": "3.12.3"
  }
 },
 "nbformat": 4,
 "nbformat_minor": 5
}
