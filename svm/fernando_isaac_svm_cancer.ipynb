{
 "cells": [
  {
   "cell_type": "code",
   "execution_count": 3,
   "id": "354fb5af-354d-4e8f-a89c-ebfc754f34c3",
   "metadata": {},
   "outputs": [],
   "source": [
    "import pandas as pd\n",
    "import numpy as np\n",
    "from keras.utils import to_categorical\n",
    "from torch.utils.data import DataLoader, TensorDataset\n",
    "from sklearn.model_selection import train_test_split, cross_val_score, cross_validate\n",
    "from sklearn.metrics import classification_report, confusion_matrix, accuracy_score\n",
    "import matplotlib.pyplot as plt\n",
    "import seaborn as sns\n",
    "from sklearn.model_selection import KFold\n",
    "from sklearn.preprocessing import LabelEncoder\n",
    "from sklearn.feature_selection import mutual_info_classif\n",
    "from sklearn import svm\n",
    "from sklearn.decomposition import PCA\n",
    "from sklearn.model_selection import GridSearchCV\n",
    "from sklearn.preprocessing import MinMaxScaler\n",
    "import random\n",
    "\n",
    "# DOI 10.24432/C5HP4Z"
   ]
  },
  {
   "cell_type": "code",
   "execution_count": 4,
   "id": "73563490-e034-432d-ad4b-a9e943986a4b",
   "metadata": {},
   "outputs": [],
   "source": [
    "nomes_colunas = ['Sample_code_number', 'Clump_thickness', 'Uniformity_of_cell_size',\n",
    "       'Uniformity_of_cell_shape', 'Marginal_adhesion',\n",
    "       'Single_epithelial_cell_size', 'Bare_nuclei', 'Bland_chromatin',\n",
    "       'Normal_nucleoli', 'Mitoses', 'Class']"
   ]
  },
  {
   "cell_type": "code",
   "execution_count": 5,
   "id": "48dd4477-38af-4559-800a-1b9cb85d01e3",
   "metadata": {},
   "outputs": [],
   "source": [
    "df = pd.read_csv('breast-cancer-wisconsin.data')\n",
    "df.columns = nomes_colunas"
   ]
  },
  {
   "cell_type": "code",
   "execution_count": 6,
   "id": "7b239ed7-6bf2-40ad-9ac8-a50842f9100d",
   "metadata": {},
   "outputs": [
    {
     "data": {
      "text/html": [
       "<div>\n",
       "<style scoped>\n",
       "    .dataframe tbody tr th:only-of-type {\n",
       "        vertical-align: middle;\n",
       "    }\n",
       "\n",
       "    .dataframe tbody tr th {\n",
       "        vertical-align: top;\n",
       "    }\n",
       "\n",
       "    .dataframe thead th {\n",
       "        text-align: right;\n",
       "    }\n",
       "</style>\n",
       "<table border=\"1\" class=\"dataframe\">\n",
       "  <thead>\n",
       "    <tr style=\"text-align: right;\">\n",
       "      <th></th>\n",
       "      <th>Sample_code_number</th>\n",
       "      <th>Clump_thickness</th>\n",
       "      <th>Uniformity_of_cell_size</th>\n",
       "      <th>Uniformity_of_cell_shape</th>\n",
       "      <th>Marginal_adhesion</th>\n",
       "      <th>Single_epithelial_cell_size</th>\n",
       "      <th>Bare_nuclei</th>\n",
       "      <th>Bland_chromatin</th>\n",
       "      <th>Normal_nucleoli</th>\n",
       "      <th>Mitoses</th>\n",
       "      <th>Class</th>\n",
       "    </tr>\n",
       "  </thead>\n",
       "  <tbody>\n",
       "    <tr>\n",
       "      <th>0</th>\n",
       "      <td>1002945</td>\n",
       "      <td>5</td>\n",
       "      <td>4</td>\n",
       "      <td>4</td>\n",
       "      <td>5</td>\n",
       "      <td>7</td>\n",
       "      <td>10</td>\n",
       "      <td>3</td>\n",
       "      <td>2</td>\n",
       "      <td>1</td>\n",
       "      <td>2</td>\n",
       "    </tr>\n",
       "    <tr>\n",
       "      <th>1</th>\n",
       "      <td>1015425</td>\n",
       "      <td>3</td>\n",
       "      <td>1</td>\n",
       "      <td>1</td>\n",
       "      <td>1</td>\n",
       "      <td>2</td>\n",
       "      <td>2</td>\n",
       "      <td>3</td>\n",
       "      <td>1</td>\n",
       "      <td>1</td>\n",
       "      <td>2</td>\n",
       "    </tr>\n",
       "    <tr>\n",
       "      <th>2</th>\n",
       "      <td>1016277</td>\n",
       "      <td>6</td>\n",
       "      <td>8</td>\n",
       "      <td>8</td>\n",
       "      <td>1</td>\n",
       "      <td>3</td>\n",
       "      <td>4</td>\n",
       "      <td>3</td>\n",
       "      <td>7</td>\n",
       "      <td>1</td>\n",
       "      <td>2</td>\n",
       "    </tr>\n",
       "    <tr>\n",
       "      <th>3</th>\n",
       "      <td>1017023</td>\n",
       "      <td>4</td>\n",
       "      <td>1</td>\n",
       "      <td>1</td>\n",
       "      <td>3</td>\n",
       "      <td>2</td>\n",
       "      <td>1</td>\n",
       "      <td>3</td>\n",
       "      <td>1</td>\n",
       "      <td>1</td>\n",
       "      <td>2</td>\n",
       "    </tr>\n",
       "    <tr>\n",
       "      <th>4</th>\n",
       "      <td>1017122</td>\n",
       "      <td>8</td>\n",
       "      <td>10</td>\n",
       "      <td>10</td>\n",
       "      <td>8</td>\n",
       "      <td>7</td>\n",
       "      <td>10</td>\n",
       "      <td>9</td>\n",
       "      <td>7</td>\n",
       "      <td>1</td>\n",
       "      <td>4</td>\n",
       "    </tr>\n",
       "  </tbody>\n",
       "</table>\n",
       "</div>"
      ],
      "text/plain": [
       "   Sample_code_number  Clump_thickness  Uniformity_of_cell_size  \\\n",
       "0             1002945                5                        4   \n",
       "1             1015425                3                        1   \n",
       "2             1016277                6                        8   \n",
       "3             1017023                4                        1   \n",
       "4             1017122                8                       10   \n",
       "\n",
       "   Uniformity_of_cell_shape  Marginal_adhesion  Single_epithelial_cell_size  \\\n",
       "0                         4                  5                            7   \n",
       "1                         1                  1                            2   \n",
       "2                         8                  1                            3   \n",
       "3                         1                  3                            2   \n",
       "4                        10                  8                            7   \n",
       "\n",
       "  Bare_nuclei  Bland_chromatin  Normal_nucleoli  Mitoses  Class  \n",
       "0          10                3                2        1      2  \n",
       "1           2                3                1        1      2  \n",
       "2           4                3                7        1      2  \n",
       "3           1                3                1        1      2  \n",
       "4          10                9                7        1      4  "
      ]
     },
     "execution_count": 6,
     "metadata": {},
     "output_type": "execute_result"
    }
   ],
   "source": [
    "df.head()"
   ]
  },
  {
   "cell_type": "code",
   "execution_count": 7,
   "id": "3cb70e68-943b-407b-9f21-b6b95610055b",
   "metadata": {},
   "outputs": [
    {
     "name": "stdout",
     "output_type": "stream",
     "text": [
      "<class 'pandas.core.frame.DataFrame'>\n",
      "RangeIndex: 698 entries, 0 to 697\n",
      "Data columns (total 11 columns):\n",
      " #   Column                       Non-Null Count  Dtype \n",
      "---  ------                       --------------  ----- \n",
      " 0   Sample_code_number           698 non-null    int64 \n",
      " 1   Clump_thickness              698 non-null    int64 \n",
      " 2   Uniformity_of_cell_size      698 non-null    int64 \n",
      " 3   Uniformity_of_cell_shape     698 non-null    int64 \n",
      " 4   Marginal_adhesion            698 non-null    int64 \n",
      " 5   Single_epithelial_cell_size  698 non-null    int64 \n",
      " 6   Bare_nuclei                  698 non-null    object\n",
      " 7   Bland_chromatin              698 non-null    int64 \n",
      " 8   Normal_nucleoli              698 non-null    int64 \n",
      " 9   Mitoses                      698 non-null    int64 \n",
      " 10  Class                        698 non-null    int64 \n",
      "dtypes: int64(10), object(1)\n",
      "memory usage: 60.1+ KB\n"
     ]
    }
   ],
   "source": [
    "df.info()"
   ]
  },
  {
   "cell_type": "code",
   "execution_count": 8,
   "id": "c9f5b83d-a46b-4cb8-ad54-faf0e0175c96",
   "metadata": {},
   "outputs": [
    {
     "data": {
      "text/plain": [
       "Class\n",
       "2    457\n",
       "4    241\n",
       "Name: count, dtype: int64"
      ]
     },
     "execution_count": 8,
     "metadata": {},
     "output_type": "execute_result"
    }
   ],
   "source": [
    "df['Class'].value_counts()"
   ]
  },
  {
   "cell_type": "code",
   "execution_count": 9,
   "id": "72a15abe-3520-4b21-b917-fdee49197921",
   "metadata": {},
   "outputs": [],
   "source": [
    "df.drop(columns=['Sample_code_number'], inplace=True)\n",
    "df.replace('?', np.nan, inplace=True)\n",
    "#df = df.astype('float64')\n",
    "df.dropna(inplace=True)"
   ]
  },
  {
   "cell_type": "code",
   "execution_count": 10,
   "id": "ab0ed65e-d76a-4ab3-b53d-36f0a0135e20",
   "metadata": {},
   "outputs": [],
   "source": [
    "scaler = MinMaxScaler()\n",
    "\n",
    "X = df.drop(columns=['Class'])\n",
    "X = scaler.fit_transform(X)\n",
    "y = df['Class']"
   ]
  },
  {
   "cell_type": "markdown",
   "id": "703bcf81-a648-4bb3-b775-d8d390ad07ae",
   "metadata": {},
   "source": [
    "### Divisão entre treino e teste"
   ]
  },
  {
   "cell_type": "code",
   "execution_count": 15,
   "id": "4259d7d5-099b-497b-8c79-bdc953054980",
   "metadata": {},
   "outputs": [
    {
     "name": "stdout",
     "output_type": "stream",
     "text": [
      "best val_acc: 0.977982\n",
      "Seed: 28306\n",
      "Melhores parâmetros encontrados: {'C': 1, 'gamma': 1, 'kernel': 'rbf'}\n",
      "Acc: 0.97080292\n",
      "\n",
      "Relatório de Classificação:\n",
      "               precision    recall  f1-score   support\n",
      "\n",
      "           2     0.9885    0.9663    0.9773        89\n",
      "           4     0.9400    0.9792    0.9592        48\n",
      "\n",
      "    accuracy                         0.9708       137\n",
      "   macro avg     0.9643    0.9727    0.9682       137\n",
      "weighted avg     0.9715    0.9708    0.9709       137\n",
      "\n"
     ]
    },
    {
     "data": {
      "image/png": "[encoded data removed]",
      "text/plain": [
       "<Figure size 500x300 with 2 Axes>"
      ]
     },
     "metadata": {},
     "output_type": "display_data"
    }
   ],
   "source": [
    "patience = 3\n",
    "delta = 0.01\n",
    "best_score = -1\n",
    "counter = 0\n",
    "seed_salva = None\n",
    "\n",
    "while True:\n",
    "    seed = random.randint(0, 100000)\n",
    "    X_train, X_test, y_train, y_test = train_test_split(X, y, test_size=0.2, random_state=seed, stratify=y) # É bom usar stratify y pois\n",
    "                                                                                                      #  as classes estão desbalanceada\n",
    "    \n",
    "    svm_clf = svm.SVC(kernel='rbf')\n",
    "    \n",
    "    param_grid = {\n",
    "        'C': [0.1, 1, 10, 100],  # Parâmetro de regularização\n",
    "        'gamma': [0.001, 0.01, 0.1, 1],  # Parâmetro que define a forma da função de kernel\n",
    "        'kernel': ['linear', 'poly', 'rbf', 'sigmoid']  # Tipo de kernel\n",
    "    }\n",
    "    \n",
    "    svm_clf = GridSearchCV(estimator=svm_clf, param_grid=param_grid, cv=5, scoring='accuracy', n_jobs=-1)\n",
    "    svm_clf.fit(X_train, y_train)\n",
    "    score = svm_clf.best_score_\n",
    "\n",
    "    # condição de parada\n",
    "    if score > best_score:\n",
    "        best_score = score\n",
    "    elif score > best_score - delta:\n",
    "        counter += 1\n",
    "        if counter >= patience:\n",
    "            seed_salva = seed\n",
    "            break\n",
    "    else:\n",
    "        best_score = score\n",
    "        counter = 0\n",
    "        \n",
    "    print(f\"best val_acc: {score:.6f}\", end='\\r')\n",
    "\n",
    "print(\"\\nSeed:\", seed_salva)\n",
    "print(\"Melhores parâmetros encontrados:\", svm_clf.best_params_)\n",
    "#O modelo SVM com os melhores parâmetros\n",
    "svm_clf = svm_clf.best_estimator_\n",
    "\n",
    "y_pred = svm_clf.predict(X_test)\n",
    "\n",
    "accuracy = accuracy_score(y_test, y_pred)\n",
    "print(\"Acc: %.8f\" % accuracy)\n",
    "\n",
    "class_report = classification_report(y_test, y_pred, digits=4)\n",
    "print(\"\\nRelatório de Classificação:\\n\", class_report)\n",
    "\n",
    "conf_matrix = confusion_matrix(y_test, y_pred)\n",
    "plt.figure(figsize=(5, 3))\n",
    "sns.heatmap(conf_matrix, annot=True, fmt='d', cmap='Blues', xticklabels=['Benigno', 'Maligno'], yticklabels=['Benigno', 'Maligno'])\n",
    "plt.xlabel('Predicted')\n",
    "plt.ylabel('True')\n",
    "plt.title('Matriz de Confusão')\n",
    "plt.show()"
   ]
  },
  {
   "cell_type": "code",
   "execution_count": null,
   "id": "befe9c4d-3635-4653-8be1-47f9f773a6ef",
   "metadata": {},
   "outputs": [],
   "source": []
  }
 ],
 "metadata": {
  "kernelspec": {
   "display_name": "Python 3 (ipykernel)",
   "language": "python",
   "name": "python3"
  },
  "language_info": {
   "codemirror_mode": {
    "name": "ipython",
    "version": 3
   },
   "file_extension": ".py",
   "mimetype": "text/x-python",
   "name": "python",
   "nbconvert_exporter": "python",
   "pygments_lexer": "ipython3",
   "version": "3.12.3"
  }
 },
 "nbformat": 4,
 "nbformat_minor": 5
}
