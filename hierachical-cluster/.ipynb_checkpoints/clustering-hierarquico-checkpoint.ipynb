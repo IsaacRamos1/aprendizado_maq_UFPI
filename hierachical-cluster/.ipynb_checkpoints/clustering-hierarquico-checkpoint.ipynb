{
 "cells": [
  {
   "cell_type": "code",
   "execution_count": 1,
   "id": "9a93758b-3f7d-494b-9bd2-55dd7c788760",
   "metadata": {},
   "outputs": [],
   "source": [
    "from ucimlrepo import fetch_ucirepo, list_available_datasets\n",
    "  \n",
    "# fetch dataset \n",
    "census_income = fetch_ucirepo(id=20) \n",
    "  \n",
    "# data (as pandas dataframes) \n",
    "X = census_income.data.features \n",
    "y = census_income.data.targets"
   ]
  },
  {
   "cell_type": "code",
   "execution_count": null,
   "id": "f3039440-139b-4d8b-a693-11989df2ec97",
   "metadata": {},
   "outputs": [],
   "source": [
    "from sklearn.metrics import silhouette_score, davies_bouldin_score\n",
    "from scipy.cluster.hierarchy import linkage, dendrogram, fcluster\n",
    "from sklearn.cluster import AgglomerativeClustering\n",
    "from sklearn.metrics import pairwise_distances\n",
    "import numpy as np\n",
    "import pandas as pd\n",
    "import matplotlib.pyplot as plt\n",
    "from sklearn.preprocessing import StandardScaler, OneHotEncoder\n",
    "from sklearn.impute import SimpleImputer\n",
    "from sklearn.preprocessing import LabelEncoder\n",
    "from sklearn.metrics import silhouette_score, calinski_harabasz_score, davies_bouldin_score\n",
    "\n",
    "\n",
    "df = X"
   ]
  },
  {
   "cell_type": "code",
   "execution_count": null,
   "id": "547bc356-e2ad-44bf-90bd-1c323ffe14b8",
   "metadata": {},
   "outputs": [],
   "source": [
    "df.info()"
   ]
  },
  {
   "cell_type": "code",
   "execution_count": null,
   "id": "0013eae8-09c5-4271-b3dd-c6365f6151a8",
   "metadata": {},
   "outputs": [],
   "source": [
    "df.drop('native-country', axis=1, inplace=True)\n",
    "df.drop('fnlwgt', axis=1, inplace=True)\n",
    "df.drop('occupation', axis=1, inplace=True)\n",
    "df.drop('workclass', axis=1, inplace=True)"
   ]
  },
  {
   "cell_type": "code",
   "execution_count": null,
   "id": "1df6edfb-ee40-4ab7-b05b-d4aa12beb5c4",
   "metadata": {},
   "outputs": [],
   "source": [
    "# 1. Tratar valores ausentes\n",
    "# Imputação da moda para variáveis categóricas\n",
    "categorical_cols = df.select_dtypes(include=['object']).columns\n",
    "imputer_cat = SimpleImputer(strategy='most_frequent')\n",
    "df[categorical_cols] = imputer_cat.fit_transform(df[categorical_cols])"
   ]
  },
  {
   "cell_type": "code",
   "execution_count": null,
   "id": "ce875b58-d9c7-41b2-a606-c69cebdb48ab",
   "metadata": {},
   "outputs": [],
   "source": [
    "# Imputação da média para variáveis numéricas\n",
    "numerical_cols = df.select_dtypes(include=['int64', 'float64']).columns\n",
    "imputer_num = SimpleImputer(strategy='mean')\n",
    "df[numerical_cols] = imputer_num.fit_transform(df[numerical_cols])"
   ]
  },
  {
   "cell_type": "code",
   "execution_count": null,
   "id": "23a358f6-8170-4dbd-9ac8-1c5d17016161",
   "metadata": {},
   "outputs": [],
   "source": [
    "for col in categorical_cols:\n",
    "    le = LabelEncoder()\n",
    "    df[col] = le.fit_transform(df[col])"
   ]
  },
  {
   "cell_type": "code",
   "execution_count": null,
   "id": "dd5b78f6-01c6-4da7-8637-3d7ddac86e4a",
   "metadata": {},
   "outputs": [],
   "source": [
    "df.describe()"
   ]
  },
  {
   "cell_type": "code",
   "execution_count": null,
   "id": "5cf01ba0-5aa8-448b-86b5-528a1c84caac",
   "metadata": {},
   "outputs": [],
   "source": [
    "df.info()"
   ]
  },
  {
   "cell_type": "code",
   "execution_count": null,
   "id": "86d93425-3bce-443b-a96a-c86124317719",
   "metadata": {},
   "outputs": [],
   "source": [
    "scaler = StandardScaler()\n",
    "df_scaled = scaler.fit_transform(df)\n",
    "df_scaled = pd.DataFrame(df_scaled)"
   ]
  },
  {
   "cell_type": "code",
   "execution_count": null,
   "id": "0d98182c-c674-4499-bc33-fa3385bb0470",
   "metadata": {},
   "outputs": [],
   "source": [
    "df_scaled"
   ]
  },
  {
   "cell_type": "code",
   "execution_count": null,
   "id": "5ba5590e-2505-4e1e-92ee-683cabcbd9a6",
   "metadata": {},
   "outputs": [],
   "source": [
    "#dist_matrix = pairwise_distances(df_scaled)"
   ]
  },
  {
   "cell_type": "code",
   "execution_count": null,
   "id": "472bacf1-1d6f-4336-97a7-a4b169dc6096",
   "metadata": {},
   "outputs": [],
   "source": [
    "# Aplicando o corte com a distância desejada (exemplo: 10)\n",
    "cut_distance = 100\n",
    "model = AgglomerativeClustering(distance_threshold=cut_distance, n_clusters=None, metric='euclidean', linkage='ward')\n",
    "model.fit(df_scaled)\n",
    "\n",
    "Z = linkage(df_scaled, method='ward')\n",
    "\n",
    "# Plotando o dendrograma para ajudar a visualizar o corte\n",
    "plt.figure(figsize=(10, 12))\n",
    "plt.title(\"Dendrograma\")\n",
    "plt.xlabel(\"Pontos de Dados\")\n",
    "plt.ylabel(\"Distância\")\n",
    "plt.axhline(y=cut_distance, color='r', linestyle='--')  # Corte da distância\n",
    "dendrogram(Z, truncate_mode=\"level\", p=3, color_threshold=10)\n",
    "plt.show()\n",
    "\n",
    "# Quantidade de clusters após o corte\n",
    "num_clusters = len(np.unique(model.labels_))\n",
    "print(f\"Número de clusters encontrados: {num_clusters}\")"
   ]
  },
  {
   "cell_type": "code",
   "execution_count": null,
   "id": "75bba254-75a4-4a9e-b725-763f3619ac4b",
   "metadata": {},
   "outputs": [],
   "source": [
    "# Cálculo das métricas\n",
    "silhouette_avg = silhouette_score(df_scaled, model.labels_)\n",
    "calinski_harabasz = calinski_harabasz_score(df_scaled, model.labels_)\n",
    "davies_bouldin = davies_bouldin_score(df_scaled, model.labels_)\n",
    "\n",
    "    # Exibe as métricas\n",
    "print(f\"Média do Silhouette Score: {silhouette_avg:.4f}\")\n",
    "print(f\"Índice Calinski-Harabasz: {calinski_harabasz:.4f}\")\n",
    "print(f\"Índice Davies-Bouldin: {davies_bouldin:.4f}\")"
   ]
  },
  {
   "cell_type": "code",
   "execution_count": null,
   "id": "5f7bffb7-d547-4e00-939e-4b1e4de6e6ab",
   "metadata": {},
   "outputs": [],
   "source": []
  }
 ],
 "metadata": {
  "kernelspec": {
   "display_name": "Python 3 (ipykernel)",
   "language": "python",
   "name": "python3"
  },
  "language_info": {
   "codemirror_mode": {
    "name": "ipython",
    "version": 3
   },
   "file_extension": ".py",
   "mimetype": "text/x-python",
   "name": "python",
   "nbconvert_exporter": "python",
   "pygments_lexer": "ipython3",
   "version": "3.12.3"
  }
 },
 "nbformat": 4,
 "nbformat_minor": 5
}
