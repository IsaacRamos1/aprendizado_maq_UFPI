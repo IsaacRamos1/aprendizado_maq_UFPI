{
 "cells": [
  {
   "cell_type": "code",
   "execution_count": 65,
   "id": "b80b8cb9-2dd9-4e65-ab52-35e5fda23c50",
   "metadata": {},
   "outputs": [],
   "source": [
    "import numpy as np\n",
    "import pandas as pd\n",
    "import matplotlib.pyplot as plt"
   ]
  },
  {
   "cell_type": "code",
   "execution_count": 55,
   "id": "e6d38d2e-4ec2-4d7a-b71d-d89e19eeeb86",
   "metadata": {},
   "outputs": [],
   "source": [
    "df = pd.read_csv('flag.data')\n",
    "df.columns = ['name', 'landmass', 'zone', 'area', 'population', 'language',\n",
    "              'religion', 'bars', 'stripes', 'colours', 'red', 'green', 'blue',\n",
    "              'gold', 'white', 'black', 'orange', 'mainhue', 'circles', 'crosses',\n",
    "              'saltries', 'quarters', 'sunstars', 'crescent', 'triangle', 'icon',\n",
    "              'animate', 'text', 'topleft', 'botright']"
   ]
  },
  {
   "cell_type": "code",
   "execution_count": 59,
   "id": "7ee7c4e9-5e4a-4036-887c-eefc2f4e02a7",
   "metadata": {},
   "outputs": [],
   "source": [
    "religion_map = {0: 'Catholic', 1: 'Other Christian', \n",
    "                2: 'Muslim', 3: 'Buddhist', \n",
    "                4: 'Hindu', 5: 'Ethnic', \n",
    "                6: 'Marxist', 7: 'Others'}"
   ]
  },
  {
   "cell_type": "code",
   "execution_count": 61,
   "id": "3eb52ad1-325f-4915-8084-1df8fb99cec5",
   "metadata": {},
   "outputs": [],
   "source": [
    "df['religion'] = df['religion'].replace(religion_map)"
   ]
  },
  {
   "cell_type": "code",
   "execution_count": 63,
   "id": "69401033-4c8d-4865-993f-b1b061e5e2ce",
   "metadata": {},
   "outputs": [
    {
     "data": {
      "text/html": [
       "<div>\n",
       "<style scoped>\n",
       "    .dataframe tbody tr th:only-of-type {\n",
       "        vertical-align: middle;\n",
       "    }\n",
       "\n",
       "    .dataframe tbody tr th {\n",
       "        vertical-align: top;\n",
       "    }\n",
       "\n",
       "    .dataframe thead th {\n",
       "        text-align: right;\n",
       "    }\n",
       "</style>\n",
       "<table border=\"1\" class=\"dataframe\">\n",
       "  <thead>\n",
       "    <tr style=\"text-align: right;\">\n",
       "      <th></th>\n",
       "      <th>name</th>\n",
       "      <th>landmass</th>\n",
       "      <th>zone</th>\n",
       "      <th>area</th>\n",
       "      <th>population</th>\n",
       "      <th>language</th>\n",
       "      <th>religion</th>\n",
       "      <th>bars</th>\n",
       "      <th>stripes</th>\n",
       "      <th>colours</th>\n",
       "      <th>...</th>\n",
       "      <th>saltries</th>\n",
       "      <th>quarters</th>\n",
       "      <th>sunstars</th>\n",
       "      <th>crescent</th>\n",
       "      <th>triangle</th>\n",
       "      <th>icon</th>\n",
       "      <th>animate</th>\n",
       "      <th>text</th>\n",
       "      <th>topleft</th>\n",
       "      <th>botright</th>\n",
       "    </tr>\n",
       "  </thead>\n",
       "  <tbody>\n",
       "    <tr>\n",
       "      <th>0</th>\n",
       "      <td>Albania</td>\n",
       "      <td>3</td>\n",
       "      <td>1</td>\n",
       "      <td>29</td>\n",
       "      <td>3</td>\n",
       "      <td>6</td>\n",
       "      <td>Marxist</td>\n",
       "      <td>0</td>\n",
       "      <td>0</td>\n",
       "      <td>3</td>\n",
       "      <td>...</td>\n",
       "      <td>0</td>\n",
       "      <td>0</td>\n",
       "      <td>1</td>\n",
       "      <td>0</td>\n",
       "      <td>0</td>\n",
       "      <td>0</td>\n",
       "      <td>1</td>\n",
       "      <td>0</td>\n",
       "      <td>red</td>\n",
       "      <td>red</td>\n",
       "    </tr>\n",
       "    <tr>\n",
       "      <th>1</th>\n",
       "      <td>Algeria</td>\n",
       "      <td>4</td>\n",
       "      <td>1</td>\n",
       "      <td>2388</td>\n",
       "      <td>20</td>\n",
       "      <td>8</td>\n",
       "      <td>Muslim</td>\n",
       "      <td>2</td>\n",
       "      <td>0</td>\n",
       "      <td>3</td>\n",
       "      <td>...</td>\n",
       "      <td>0</td>\n",
       "      <td>0</td>\n",
       "      <td>1</td>\n",
       "      <td>1</td>\n",
       "      <td>0</td>\n",
       "      <td>0</td>\n",
       "      <td>0</td>\n",
       "      <td>0</td>\n",
       "      <td>green</td>\n",
       "      <td>white</td>\n",
       "    </tr>\n",
       "    <tr>\n",
       "      <th>2</th>\n",
       "      <td>American-Samoa</td>\n",
       "      <td>6</td>\n",
       "      <td>3</td>\n",
       "      <td>0</td>\n",
       "      <td>0</td>\n",
       "      <td>1</td>\n",
       "      <td>Other Christian</td>\n",
       "      <td>0</td>\n",
       "      <td>0</td>\n",
       "      <td>5</td>\n",
       "      <td>...</td>\n",
       "      <td>0</td>\n",
       "      <td>0</td>\n",
       "      <td>0</td>\n",
       "      <td>0</td>\n",
       "      <td>1</td>\n",
       "      <td>1</td>\n",
       "      <td>1</td>\n",
       "      <td>0</td>\n",
       "      <td>blue</td>\n",
       "      <td>red</td>\n",
       "    </tr>\n",
       "    <tr>\n",
       "      <th>3</th>\n",
       "      <td>Andorra</td>\n",
       "      <td>3</td>\n",
       "      <td>1</td>\n",
       "      <td>0</td>\n",
       "      <td>0</td>\n",
       "      <td>6</td>\n",
       "      <td>Catholic</td>\n",
       "      <td>3</td>\n",
       "      <td>0</td>\n",
       "      <td>3</td>\n",
       "      <td>...</td>\n",
       "      <td>0</td>\n",
       "      <td>0</td>\n",
       "      <td>0</td>\n",
       "      <td>0</td>\n",
       "      <td>0</td>\n",
       "      <td>0</td>\n",
       "      <td>0</td>\n",
       "      <td>0</td>\n",
       "      <td>blue</td>\n",
       "      <td>red</td>\n",
       "    </tr>\n",
       "    <tr>\n",
       "      <th>4</th>\n",
       "      <td>Angola</td>\n",
       "      <td>4</td>\n",
       "      <td>2</td>\n",
       "      <td>1247</td>\n",
       "      <td>7</td>\n",
       "      <td>10</td>\n",
       "      <td>Ethnic</td>\n",
       "      <td>0</td>\n",
       "      <td>2</td>\n",
       "      <td>3</td>\n",
       "      <td>...</td>\n",
       "      <td>0</td>\n",
       "      <td>0</td>\n",
       "      <td>1</td>\n",
       "      <td>0</td>\n",
       "      <td>0</td>\n",
       "      <td>1</td>\n",
       "      <td>0</td>\n",
       "      <td>0</td>\n",
       "      <td>red</td>\n",
       "      <td>black</td>\n",
       "    </tr>\n",
       "  </tbody>\n",
       "</table>\n",
       "<p>5 rows × 30 columns</p>\n",
       "</div>"
      ],
      "text/plain": [
       "             name  landmass  zone  area  population  language  \\\n",
       "0         Albania         3     1    29           3         6   \n",
       "1         Algeria         4     1  2388          20         8   \n",
       "2  American-Samoa         6     3     0           0         1   \n",
       "3         Andorra         3     1     0           0         6   \n",
       "4          Angola         4     2  1247           7        10   \n",
       "\n",
       "          religion  bars  stripes  colours  ...  saltries  quarters  sunstars  \\\n",
       "0          Marxist     0        0        3  ...         0         0         1   \n",
       "1           Muslim     2        0        3  ...         0         0         1   \n",
       "2  Other Christian     0        0        5  ...         0         0         0   \n",
       "3         Catholic     3        0        3  ...         0         0         0   \n",
       "4           Ethnic     0        2        3  ...         0         0         1   \n",
       "\n",
       "   crescent  triangle  icon  animate text  topleft  botright  \n",
       "0         0         0     0        1    0      red       red  \n",
       "1         1         0     0        0    0    green     white  \n",
       "2         0         1     1        1    0     blue       red  \n",
       "3         0         0     0        0    0     blue       red  \n",
       "4         0         0     1        0    0      red     black  \n",
       "\n",
       "[5 rows x 30 columns]"
      ]
     },
     "execution_count": 63,
     "metadata": {},
     "output_type": "execute_result"
    }
   ],
   "source": [
    "df.head(5)"
   ]
  },
  {
   "cell_type": "code",
   "execution_count": 128,
   "id": "fd9dcb68-79e1-4591-95df-e65dbec3d24f",
   "metadata": {},
   "outputs": [],
   "source": [
    "def mostrar_distribuicao_por_coluna(coluna):\n",
    "    religion_freq = coluna.value_counts()\n",
    "    \n",
    "    plt.figure(figsize=(5, 4))\n",
    "    religion_freq.plot(kind='bar', color='skyblue')\n",
    "    plt.ylabel(\"Frequência\")\n",
    "    plt.show()"
   ]
  },
  {
   "cell_type": "code",
   "execution_count": 130,
   "id": "2ebbc9ce-3339-4c8b-bde5-939156329380",
   "metadata": {},
   "outputs": [
    {
     "data": {
      "image/png": "[encoded data removed]",
      "text/plain": [
       "<Figure size 500x400 with 1 Axes>"
      ]
     },
     "metadata": {},
     "output_type": "display_data"
    }
   ],
   "source": [
    "mostrar_distribuicao_por_coluna(df['religion'])"
   ]
  },
  {
   "cell_type": "code",
   "execution_count": 132,
   "id": "466e61e1-71e5-4e82-bfa2-40506a2d723a",
   "metadata": {},
   "outputs": [
    {
     "data": {
      "image/png": "[encoded data removed]",
      "text/plain": [
       "<Figure size 500x400 with 1 Axes>"
      ]
     },
     "metadata": {},
     "output_type": "display_data"
    }
   ],
   "source": [
    "mostrar_distribuicao_por_coluna(df['colours'])"
   ]
  },
  {
   "cell_type": "code",
   "execution_count": 134,
   "id": "eb0a32bd-d209-49ec-978f-2b1cfc69debb",
   "metadata": {},
   "outputs": [
    {
     "data": {
      "image/png": "[encoded data removed]",
      "text/plain": [
       "<Figure size 500x400 with 1 Axes>"
      ]
     },
     "metadata": {},
     "output_type": "display_data"
    }
   ],
   "source": [
    "mostrar_distribuicao_por_coluna(df['mainhue'])"
   ]
  },
  {
   "cell_type": "code",
   "execution_count": null,
   "id": "bca25246-0f21-4cb9-b3ee-8a6302486456",
   "metadata": {},
   "outputs": [],
   "source": []
  }
 ],
 "metadata": {
  "kernelspec": {
   "display_name": "Python 3 (ipykernel)",
   "language": "python",
   "name": "python3"
  },
  "language_info": {
   "codemirror_mode": {
    "name": "ipython",
    "version": 3
   },
   "file_extension": ".py",
   "mimetype": "text/x-python",
   "name": "python",
   "nbconvert_exporter": "python",
   "pygments_lexer": "ipython3",
   "version": "3.12.4"
  }
 },
 "nbformat": 4,
 "nbformat_minor": 5
}
